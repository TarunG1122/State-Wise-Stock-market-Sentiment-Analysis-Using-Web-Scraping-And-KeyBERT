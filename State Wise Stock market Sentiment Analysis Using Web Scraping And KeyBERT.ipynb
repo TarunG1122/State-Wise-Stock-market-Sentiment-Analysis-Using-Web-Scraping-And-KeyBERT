{
 "cells": [
  {
   "cell_type": "code",
   "execution_count": 1,
   "id": "d759bc8e",
   "metadata": {},
   "outputs": [],
   "source": [
    "# importing libraries\n",
    "import matplotlib.pyplot as plt\n",
    "from wordcloud import WordCloud, STOPWORDS\n",
    "import sys , os\n",
    "from keybert import KeyBERT"
   ]
  },
  {
   "cell_type": "code",
   "execution_count": 2,
   "id": "2f9717aa",
   "metadata": {},
   "outputs": [],
   "source": [
    "# read .txt file saved as gujarat.txt\n",
    "\n",
    "text = open(\"C:\\\\Users\\\\tarun\\\\Desktop\\\\guj\\\\gujarat.txt\",mode='r',encoding='utf-8').read()"
   ]
  },
  {
   "cell_type": "code",
   "execution_count": 3,
   "id": "ac5c0bc6",
   "metadata": {},
   "outputs": [],
   "source": [
    "# assigning kw_model to kw_model = KeyBERT object\n",
    "\n",
    "kw_model = KeyBERT()\n",
    "keywords = kw_model.extract_keywords(text)"
   ]
  },
  {
   "cell_type": "code",
   "execution_count": 4,
   "id": "021cfeef",
   "metadata": {},
   "outputs": [
    {
     "data": {
      "text/plain": [
       "[('tr complaints indianconsumer', 0.549),\n",
       " ('india financial scandal', 0.5507),\n",
       " ('alleged fraud rs', 0.5512),\n",
       " ('sharma complaint fraud', 0.5526),\n",
       " ('grahaksuraksha complaint fraud', 0.5582),\n",
       " ('market scam india', 0.5609),\n",
       " ('gandh complaints indianconsumer', 0.5636),\n",
       " ('concent delhi fraud', 0.5676),\n",
       " ('complaint fraud indiamart', 0.5737),\n",
       " ('bank india alleging', 0.5743),\n",
       " ('fraud indiamart http', 0.5796),\n",
       " ('fraud india biggest', 0.5823),\n",
       " ('indiamart complaint fraud', 0.5835),\n",
       " ('bjp indiamart complaint', 0.5896),\n",
       " ('government gujarat complaint', 0.5899),\n",
       " ('delhi complaint fraud', 0.5954),\n",
       " ('delhi fraud submit', 0.6105),\n",
       " ('fraud complaints indianconsumer', 0.6381),\n",
       " ('market fraud india', 0.6491),\n",
       " ('gujarat complaint fraud', 0.6542)]"
      ]
     },
     "execution_count": 4,
     "metadata": {},
     "output_type": "execute_result"
    }
   ],
   "source": [
    "#uisng KeyBERT model to generate meaningful keywords that are used to understand people's sentiment on stock market\n",
    "\n",
    "kw_model.extract_keywords(text, keyphrase_ngram_range=(3, 3), stop_words='english', use_maxsum=True, nr_candidates=20, top_n=20)"
   ]
  },
  {
   "cell_type": "code",
   "execution_count": 5,
   "id": "35502a85",
   "metadata": {},
   "outputs": [
    {
     "data": {
      "text/plain": [
       "[('assam complaint', 0.5144),\n",
       " ('delhi complaint', 0.5146),\n",
       " ('companies gujarat', 0.5148),\n",
       " ('gujarat company', 0.5195),\n",
       " ('fraud rs', 0.5196),\n",
       " ('crore complaints', 0.5199),\n",
       " ('gujarat industries', 0.5228),\n",
       " ('trading gujarat', 0.5228),\n",
       " ('markets gujarat', 0.524),\n",
       " ('gujaratgas markets', 0.5257),\n",
       " ('complaints indianconsumer', 0.5278),\n",
       " ('gujarat committed', 0.5338),\n",
       " ('indiamart complaint', 0.5379),\n",
       " ('fraud kapoor', 0.5407),\n",
       " ('india alleging', 0.5421),\n",
       " ('raipur fraud', 0.5669),\n",
       " ('fraud indiamart', 0.578),\n",
       " ('gujarat complaint', 0.5918),\n",
       " ('fraud india', 0.6093),\n",
       " ('delhi fraud', 0.6112)]"
      ]
     },
     "execution_count": 5,
     "metadata": {},
     "output_type": "execute_result"
    }
   ],
   "source": [
    "# using same function to generate 2 keywords that can be used in social media platforms for sentiment analysis (advertisement)\n",
    "kw_model.extract_keywords(text, keyphrase_ngram_range=(1, 2), stop_words='english', use_maxsum=True, nr_candidates=20, top_n=20)"
   ]
  },
  {
   "cell_type": "code",
   "execution_count": 6,
   "id": "eb228888",
   "metadata": {},
   "outputs": [],
   "source": [
    "# generating wordcloud image for frequently used keywords using WORDCLOUD and MATPLOTLIB for sentiment analysis.\n",
    "\n",
    "\n",
    "os.chdir(sys.path[0])\n",
    "stopwords = STOPWORDS"
   ]
  },
  {
   "cell_type": "code",
   "execution_count": 7,
   "id": "65307d95",
   "metadata": {},
   "outputs": [
    {
     "name": "stdout",
     "output_type": "stream",
     "text": [
      "{\"she'd\", 'themselves', 'r', 'my', \"they'd\", 'myself', \"we'd\", 'the', 'who', 'ever', 'why', 'have', 'which', \"why's\", 'was', 'there', 'before', \"doesn't\", \"won't\", 'can', \"when's\", 'some', 'com', 'been', 'had', 'on', 'so', \"she's\", 'any', 'we', 'ought', 'below', 'and', 'it', 'once', 'these', 'could', 'this', 'you', 'where', 'herself', 'were', \"aren't\", 'for', 'he', 'hence', 'or', 'other', 'them', 'since', 'i', \"you'd\", 'again', 'our', 'doing', 'get', 'both', 'against', \"she'll\", 'very', \"weren't\", \"that's\", \"can't\", \"he'll\", 'just', \"wasn't\", 'however', 'they', 'own', 'at', 'each', 'theirs', 'all', 'if', 'by', 'while', 'hers', 'their', 'than', 'how', 'out', 'up', \"i'd\", 'not', \"don't\", 'between', \"he's\", \"let's\", \"we've\", 'about', 'himself', 'otherwise', 'from', 'those', 'your', 'no', 'too', \"there's\", 'yours', \"he'd\", \"you've\", \"they're\", 'http', 'shall', 'such', 'after', 'did', \"shouldn't\", 'are', 'only', 'also', \"we're\", \"i'm\", 'to', \"couldn't\", 'k', \"i'll\", \"we'll\", 'during', 'having', 'does', 'off', 'in', 'that', 'is', \"who's\", 'she', 'www', 'its', 'whom', \"mustn't\", 'here', \"it's\", 'ours', 'nor', 'cannot', 'with', 'over', 'him', \"how's\", \"they'll\", 'through', \"haven't\", \"hadn't\", 'itself', 'like', 'yourself', 'do', \"what's\", \"i've\", 'his', 'else', \"didn't\", 'same', \"isn't\", 'then', 'me', 'be', 'her', 'above', 'ourselves', 'until', 'further', \"wouldn't\", 'of', \"you'll\", 'a', 'yourselves', \"you're\", 'being', 'as', 'under', 'because', 'am', 'an', \"here's\", 'most', \"they've\", 'when', 'into', 'what', 'down', 'should', 'but', 'would', \"where's\", 'more', 'has', 'few', 'therefore', \"shan't\", \"hasn't\"}\n"
     ]
    }
   ],
   "source": [
    "print(stopwords)"
   ]
  },
  {
   "cell_type": "code",
   "execution_count": 8,
   "id": "ab7e810a",
   "metadata": {},
   "outputs": [],
   "source": [
    "wc = WordCloud(background_color='white',stopwords=stopwords,height=1000,width= 800)"
   ]
  },
  {
   "cell_type": "code",
   "execution_count": 9,
   "id": "d4b5afec",
   "metadata": {},
   "outputs": [
    {
     "data": {
      "text/plain": [
       "<wordcloud.wordcloud.WordCloud at 0x1ee5bf36580>"
      ]
     },
     "execution_count": 9,
     "metadata": {},
     "output_type": "execute_result"
    }
   ],
   "source": [
    "wc.generate(text)"
   ]
  },
  {
   "cell_type": "code",
   "execution_count": 10,
   "id": "7484ef7e",
   "metadata": {},
   "outputs": [
    {
     "data": {
      "text/plain": [
       "<wordcloud.wordcloud.WordCloud at 0x1ee5bf36580>"
      ]
     },
     "execution_count": 10,
     "metadata": {},
     "output_type": "execute_result"
    }
   ],
   "source": [
    "# converting wordcloud text to image\n",
    "wc.to_file('gujarat.png')"
   ]
  },
  {
   "cell_type": "code",
   "execution_count": null,
   "id": "733babab",
   "metadata": {},
   "outputs": [],
   "source": []
  }
 ],
 "metadata": {
  "kernelspec": {
   "display_name": "Python 3 (ipykernel)",
   "language": "python",
   "name": "python3"
  },
  "language_info": {
   "codemirror_mode": {
    "name": "ipython",
    "version": 3
   },
   "file_extension": ".py",
   "mimetype": "text/x-python",
   "name": "python",
   "nbconvert_exporter": "python",
   "pygments_lexer": "ipython3",
   "version": "3.9.12"
  }
 },
 "nbformat": 4,
 "nbformat_minor": 5
}
